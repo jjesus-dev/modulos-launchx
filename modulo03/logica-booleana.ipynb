{
 "cells": [
  {
   "cell_type": "markdown",
   "metadata": {},
   "source": [
    "# Declaraciones ```if```, ```else```, y ```elif```\n",
    "\n",
    "## 1 - Advertencia si un asteroide se acerca a la Tierra demasiado rápido"
   ]
  },
  {
   "cell_type": "code",
   "execution_count": 3,
   "metadata": {},
   "outputs": [
    {
     "name": "stdout",
     "output_type": "stream",
     "text": [
      "¡Cuidado! Un asteroide se acerca a 49 km/s.\n"
     ]
    }
   ],
   "source": [
    "# Añadir el código necesario para crear una variable que guarde la velocidad del asteroide.\n",
    "# Escribe una expresión de prueba para calcular si necesita una advertencia.\n",
    "# Agregue las instrucciones que se ejecutarán si la expresión de prueba es true o false.\n",
    "\n",
    "vel_asteroide = 49\n",
    "\n",
    "if(vel_asteroide > 25):\n",
    "    print('¡Cuidado! Un asteroide se acerca a ' + str(vel_asteroide) + \" km/s.\")\n",
    "else:\n",
    "    print('Nada de que preocuparse por el momento')"
   ]
  },
  {
   "cell_type": "markdown",
   "metadata": {},
   "source": [
    "## 2 - Un asteroide entra en la atmósfera de la Tierra"
   ]
  },
  {
   "cell_type": "code",
   "execution_count": 4,
   "metadata": {},
   "outputs": [
    {
     "name": "stdout",
     "output_type": "stream",
     "text": [
      "Nada que reportar\n"
     ]
    }
   ],
   "source": [
    "# Añadir el código necesario para crear una variable que guarde la velocidad del asteroide.\n",
    "# Escribe una expresión de prueba para calcular si necesita una advertencia.\n",
    "# Agregue las instrucciones que se ejecutarán si la expresión de prueba es true o false.\n",
    "\n",
    "vel_asteroide = 19\n",
    "\n",
    "if(vel_asteroide > 20):\n",
    "    print('¡Atención! un rayo de luz aparece en el cielo')\n",
    "elif(vel_asteroide == 20):\n",
    "    print('¡Atención! un rayo de luz aparece en el cielo')\n",
    "else:\n",
    "    print('Nada que reportar')\n"
   ]
  },
  {
   "cell_type": "markdown",
   "metadata": {},
   "source": [
    "## 3 - Cuándo los asteroides representan un peligro para la Tierra"
   ]
  },
  {
   "cell_type": "code",
   "execution_count": 13,
   "metadata": {},
   "outputs": [
    {
     "name": "stdout",
     "output_type": "stream",
     "text": [
      "¡Cuidado! Un asteroide peligroso se acerca a la tierra\n"
     ]
    }
   ],
   "source": [
    "# Agrega el código para crear nuevas variables para la velocidad y el tamaño del asteroide\n",
    "# Para probar el código, prueba con varias velocidades y tamaños\n",
    "# Escribe varias expresiones de prueba o combinaciones de expresiones de prueba para determinar qué mensaje se debe enviar a Tierra.\n",
    "\n",
    "vel_asteroide = 21\n",
    "dimension_asteroide = 500\n",
    "\n",
    "if (dimension_asteroide > 25 and dimension_asteroide < 1000) or vel_asteroide > 25:\n",
    "    print('¡Cuidado! Un asteroide peligroso se acerca a la tierra')\n",
    "elif(vel_asteroide >= 20):\n",
    "    print('¡Atención! un rayo de luz aparece en el cielo')\n",
    "elif(vel_asteroide < 20 and dimension_asteroide < 25):\n",
    "    print('No hay peligro')\n",
    "else:\n",
    "    print('Nada que reportar')"
   ]
  }
 ],
 "metadata": {
  "interpreter": {
   "hash": "e7370f93d1d0cde622a1f8e1c04877d8463912d04d973331ad4851f04de6915a"
  },
  "kernelspec": {
   "display_name": "Python 3.9.10 64-bit",
   "language": "python",
   "name": "python3"
  },
  "language_info": {
   "codemirror_mode": {
    "name": "ipython",
    "version": 3
   },
   "file_extension": ".py",
   "mimetype": "text/x-python",
   "name": "python",
   "nbconvert_exporter": "python",
   "pygments_lexer": "ipython3",
   "version": "3.9.10"
  },
  "orig_nbformat": 4
 },
 "nbformat": 4,
 "nbformat_minor": 2
}
