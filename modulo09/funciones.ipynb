{
 "cells": [
  {
   "cell_type": "markdown",
   "metadata": {},
   "source": [
    "# Uso de funciones en Python\n",
    "\n",
    "## 1 - Trabajar con argumentos en funciones"
   ]
  },
  {
   "cell_type": "code",
   "execution_count": 12,
   "metadata": {},
   "outputs": [
    {
     "name": "stdout",
     "output_type": "stream",
     "text": [
      "{'tanque1': 20, 'tanque2': 35, 'tanque3': 2}\n",
      "Los tanques son: {'tanque_principal': 15, 'tanque_secundario': 53, 'tanque_externo': 12}.\n",
      "    Su promedio es: 26.666666666666668\n"
     ]
    }
   ],
   "source": [
    "# Función para leer 3 tanques de combustible y muestre el promedio\n",
    "def tanques(**kwargs):\n",
    "    return kwargs\n",
    "\n",
    "# Llamamos a la función que genera el reporte print(funcion(tanque1, tanque2, tanque3))\n",
    "print(tanques(tanque1=20, tanque2=35, tanque3=2))\n",
    "\n",
    "# Función promedio \n",
    "def promedio(total_tanques):\n",
    "    cantidad_total = 0\n",
    "    num_tanques = len(total_tanques)\n",
    "    for tanque, cantidad in total_tanques.items():\n",
    "        cantidad_total += cantidad\n",
    "\n",
    "    return cantidad_total / num_tanques\n",
    "\n",
    "# Actualiza la función\n",
    "def tanques(**kwargs):\n",
    "    print(f\"\"\"Los tanques son: {kwargs}.\n",
    "    Su promedio es: {promedio(kwargs)}\"\"\")\n",
    "\n",
    "tanques(tanque_principal=15, tanque_secundario=53, tanque_externo=12)"
   ]
  },
  {
   "cell_type": "markdown",
   "metadata": {},
   "source": [
    "## 2 - Trabajo con argumentos de palabra clave"
   ]
  },
  {
   "cell_type": "code",
   "execution_count": 15,
   "metadata": {},
   "outputs": [
    {
     "name": "stdout",
     "output_type": "stream",
     "text": [
      "Mission to: Mars\n",
      "    Total travel time: 35 minutes\n",
      "    Total fuel in tanks: 15500 gallons\n",
      "    \n",
      "Mission to: Moon\n",
      "    Total travel time: 90 minutes\n",
      "    Total fuel in tanks: 662500 gallons\n",
      "    \n",
      "Mission to: Moon\n",
      "    Total travel time: 90 minutes\n",
      "    -- Total fuel in tanks --\n",
      "tank1 has: 75000 gallons\n",
      "tank2 has: 587500 gallons\n"
     ]
    }
   ],
   "source": [
    "# Función con un informe preciso de la misión.\n",
    "# Considera hora de prelanzamiento, tiempo de vuelo, destino, tanque externo y tanque interno\n",
    "def flight_report(prelaunch_time, flight_time, destination, external_tank, internal_tank):\n",
    "    return f\"\"\"Mission to: {destination}\n",
    "    Total travel time: {prelaunch_time + flight_time} minutes\n",
    "    Total fuel in tanks: {external_tank + internal_tank} gallons\n",
    "    \"\"\"\n",
    "\n",
    "print(flight_report(10, 25, 'Mars', 7500, 8000))\n",
    "\n",
    "# Escribe tu nueva función considerando *minutes y **fuel_reservoirs\n",
    "def flight_report(destination, *minutes, **fuel_reservoirs):\n",
    "    return f\"\"\"Mission to: {destination}\n",
    "    Total travel time: {sum(minutes)} minutes\n",
    "    Total fuel in tanks: {sum(fuel_reservoirs.values())} gallons\n",
    "    \"\"\"\n",
    "\n",
    "print(flight_report('Moon', 15, 75, tank1=75000, tank2=587500))\n",
    "\n",
    "# Debido a que el combustible que queda en los tanques es específico de cada tanque,\n",
    "# actualiza la función para usar el nombre de cada tanque en el informe.\n",
    "\n",
    "def flight_report(destination, *minutes, **fuel_reservoirs):\n",
    "    template = f\"\"\"Mission to: {destination}\n",
    "    Total travel time: {sum(minutes)} minutes\n",
    "    -- Total fuel in tanks --\"\"\"\n",
    "\n",
    "    tank_details = ''\n",
    "    for tank, fuel in fuel_reservoirs.items():\n",
    "        tank_details += f\"\\n{tank} has: {fuel} gallons\"\n",
    "\n",
    "    return template + tank_details\n",
    "\n",
    "print(flight_report('Moon', 15, 75, tank1=75000, tank2=587500))"
   ]
  }
 ],
 "metadata": {
  "interpreter": {
   "hash": "e7370f93d1d0cde622a1f8e1c04877d8463912d04d973331ad4851f04de6915a"
  },
  "kernelspec": {
   "display_name": "Python 3.9.10 64-bit",
   "language": "python",
   "name": "python3"
  },
  "language_info": {
   "codemirror_mode": {
    "name": "ipython",
    "version": 3
   },
   "file_extension": ".py",
   "mimetype": "text/x-python",
   "name": "python",
   "nbconvert_exporter": "python",
   "pygments_lexer": "ipython3",
   "version": "3.9.10"
  },
  "orig_nbformat": 4
 },
 "nbformat": 4,
 "nbformat_minor": 2
}
