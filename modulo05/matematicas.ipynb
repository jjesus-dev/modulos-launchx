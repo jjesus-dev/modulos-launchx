{
 "cells": [
  {
   "cell_type": "markdown",
   "metadata": {},
   "source": [
    "# Operaciones matemáticas\n",
    "\n",
    "## 1 - Utilizar operadores aritméticos"
   ]
  },
  {
   "cell_type": "code",
   "execution_count": 2,
   "metadata": {},
   "outputs": [
    {
     "name": "stdout",
     "output_type": "stream",
     "text": [
      "628949330\n",
      "390577534\n"
     ]
    }
   ],
   "source": [
    "# Crear variables para almacenar las dos distancias\n",
    "tierra = 149597870\n",
    "jupiter = 778547200\n",
    "\n",
    "# Calcular la distancia entre planetas\n",
    "distancia = tierra - jupiter\n",
    "distancia_millas = distancia * 0.621\n",
    "\n",
    "print(abs(distancia))\n",
    "print(abs(round(distancia_millas)))"
   ]
  },
  {
   "cell_type": "markdown",
   "metadata": {},
   "source": [
    "## 2 - Convierte cadenas en números y usa valores absolutos"
   ]
  },
  {
   "cell_type": "code",
   "execution_count": 4,
   "metadata": {},
   "outputs": [
    {
     "name": "stdout",
     "output_type": "stream",
     "text": [
      "Distancia entre los planetas: 78300000\n",
      "Distancia en millas: 48624300\n"
     ]
    }
   ],
   "source": [
    "# Almacenar las entradas del usuario\n",
    "sol_tierra = input(\"¿Cuál es la distancia entre el Sol y la Tierra?\")\n",
    "sol_marte = input(\"¿Cuál es la distancia entre el Sol y Marte?\")\n",
    "\n",
    "# Convierte las cadenas de ambos planetas a números enteros\n",
    "num_sol_tierra = int(sol_tierra)\n",
    "num_sol_marte = int(sol_marte)\n",
    "\n",
    "# Realizar el cálculo y determinar el valor absoluto\n",
    "distancia_planetas = abs(num_sol_tierra - num_sol_marte)\n",
    "\n",
    "# Convertir de KM a Millas\n",
    "distancia_millas = round(distancia_planetas * 0.621)\n",
    "\n",
    "print(\"Distancia entre los planetas: \" + str(distancia_planetas))\n",
    "print(\"Distancia en millas: \" + str(distancia_millas))"
   ]
  }
 ],
 "metadata": {
  "interpreter": {
   "hash": "e7370f93d1d0cde622a1f8e1c04877d8463912d04d973331ad4851f04de6915a"
  },
  "kernelspec": {
   "display_name": "Python 3.9.10 64-bit",
   "language": "python",
   "name": "python3"
  },
  "language_info": {
   "codemirror_mode": {
    "name": "ipython",
    "version": 3
   },
   "file_extension": ".py",
   "mimetype": "text/x-python",
   "name": "python",
   "nbconvert_exporter": "python",
   "pygments_lexer": "ipython3",
   "version": "3.9.10"
  },
  "orig_nbformat": 4
 },
 "nbformat": 4,
 "nbformat_minor": 2
}
