{
 "cells": [
  {
   "cell_type": "markdown",
   "metadata": {},
   "source": [
    "# Listas\n",
    "\n",
    "## 1 - Almacenar nombres de planetas"
   ]
  },
  {
   "cell_type": "code",
   "execution_count": 4,
   "metadata": {},
   "outputs": [
    {
     "name": "stdout",
     "output_type": "stream",
     "text": [
      "Hay 8en el sistema solar (['Mercurio', 'Venus', 'Tierra', 'Marte', 'Júpiter', 'Saturno', 'Urano', 'Neptuno'])\n",
      "Plutón\n"
     ]
    }
   ],
   "source": [
    "# Creamos la lista planets y la mostramos\n",
    "planetas = ['Mercurio', 'Venus', 'Tierra', 'Marte', 'Júpiter', 'Saturno', 'Urano', 'Neptuno']\n",
    "print(\"Hay \" + str(len(planetas)) + \"en el sistema solar (\" + str(planetas) + \")\")\n",
    "\n",
    "# Agregamos a plutón y mostramos el último elemento\n",
    "planetas.append('Plutón')\n",
    "print(planetas[-1])"
   ]
  },
  {
   "cell_type": "markdown",
   "metadata": {},
   "source": [
    "## 2 - Trabajando con datos de una lista"
   ]
  },
  {
   "cell_type": "code",
   "execution_count": 11,
   "metadata": {},
   "outputs": [
    {
     "name": "stdout",
     "output_type": "stream",
     "text": [
      "El planeta Mars, es el número: 3\n",
      "Los planetas más cercanos al sol que Mars son: ['Mercury', 'Venus', 'Earth']\n",
      "Los planetas más lejanos al sol que Mars son: ['Jupiter', 'Saturn', 'Neptune']\n"
     ]
    }
   ],
   "source": [
    "# Lista de planetas\n",
    "planets = ['Mercury', 'Venus', 'Earth', 'Mars', 'Jupiter', 'Saturn', 'Neptune']\n",
    "\n",
    "# Solicitamos el nombre de un planeta\n",
    "planet = input(\"Escribe el nombre de un planeta (la primer letra debe ser Mayúscula):\")\n",
    "\n",
    "# Busca el planeta en la lista\n",
    "planet_position = planets.index(planet)\n",
    "print(\"El planeta \" + planet + \", es el número: \" + str(planet_position))\n",
    "\n",
    "# Muestra los planetas más cercanos al sol\n",
    "nearest_planets = planets[0:planet_position]\n",
    "print(f\"\"\"Los planetas más cercanos al sol que {planet} son: {nearest_planets}\"\"\")\n",
    "\n",
    "# Muestra los planetas más lejanos al sol\n",
    "farthest_planets = planets[planet_position + 1:]\n",
    "print(f\"\"\"Los planetas más lejanos al sol que {planet} son: {farthest_planets}\"\"\")"
   ]
  }
 ],
 "metadata": {
  "interpreter": {
   "hash": "e7370f93d1d0cde622a1f8e1c04877d8463912d04d973331ad4851f04de6915a"
  },
  "kernelspec": {
   "display_name": "Python 3.9.10 64-bit",
   "language": "python",
   "name": "python3"
  },
  "language_info": {
   "codemirror_mode": {
    "name": "ipython",
    "version": 3
   },
   "file_extension": ".py",
   "mimetype": "text/x-python",
   "name": "python",
   "nbconvert_exporter": "python",
   "pygments_lexer": "ipython3",
   "version": "3.9.10"
  },
  "orig_nbformat": 4
 },
 "nbformat": 4,
 "nbformat_minor": 2
}
